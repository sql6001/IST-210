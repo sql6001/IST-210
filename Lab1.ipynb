{
  "nbformat": 4,
  "nbformat_minor": 0,
  "metadata": {
    "colab": {
      "name": "Lab1.ipynb",
      "provenance": [],
      "collapsed_sections": [],
      "authorship_tag": "ABX9TyOYbTsLIj2w0Fh9NBMmIYyy",
      "include_colab_link": true
    },
    "kernelspec": {
      "name": "python3",
      "display_name": "Python 3"
    }
  },
  "cells": [
    {
      "cell_type": "markdown",
      "metadata": {
        "id": "view-in-github",
        "colab_type": "text"
      },
      "source": [
        "<a href=\"https://colab.research.google.com/github/sql6001/Testing/blob/master/Lab1.ipynb\" target=\"_parent\"><img src=\"https://colab.research.google.com/assets/colab-badge.svg\" alt=\"Open In Colab\"/></a>"
      ]
    },
    {
      "cell_type": "markdown",
      "metadata": {
        "id": "ctlDlluMfsOn",
        "colab_type": "text"
      },
      "source": [
        "## Do you like using Juyter Notebooks?"
      ]
    },
    {
      "cell_type": "markdown",
      "metadata": {
        "id": "xArHJKPUgZvv",
        "colab_type": "text"
      },
      "source": [
        "Yes! This Juyter Notebook looks really interesting. It is well organized and easy to add code or add text. "
      ]
    },
    {
      "cell_type": "markdown",
      "metadata": {
        "id": "hJJKv4Oxgblm",
        "colab_type": "text"
      },
      "source": [
        "## What do you want to learn more about in Jupyter Notebooks?"
      ]
    },
    {
      "cell_type": "markdown",
      "metadata": {
        "id": "6kJw5H0wggiA",
        "colab_type": "text"
      },
      "source": [
        "I want to learn more codes and how to use it in different situations in Jupyter Notebooks."
      ]
    },
    {
      "cell_type": "markdown",
      "metadata": {
        "id": "ci6Jx1OXgih1",
        "colab_type": "text"
      },
      "source": [
        "![profile picture](https://raw.githubusercontent.com/sql6001/Testing/master/Images/ce10818cef2696f7445bd0673c51d1ba.png)"
      ]
    }
  ]
}