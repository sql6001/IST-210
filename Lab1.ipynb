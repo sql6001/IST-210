{
  "nbformat": 4,
  "nbformat_minor": 0,
  "metadata": {
    "colab": {
      "name": "Lab1.ipynb",
      "provenance": [],
      "collapsed_sections": [],
      "authorship_tag": "ABX9TyORjZRQHYzybh9vApXwd7p1",
      "include_colab_link": true
    },
    "kernelspec": {
      "name": "python3",
      "display_name": "Python 3"
    }
  },
  "cells": [
    {
      "cell_type": "markdown",
      "metadata": {
        "id": "view-in-github",
        "colab_type": "text"
      },
      "source": [
        "<a href=\"https://colab.research.google.com/github/sql6001/Testing/blob/master/Lab1.ipynb\" target=\"_parent\"><img src=\"https://colab.research.google.com/assets/colab-badge.svg\" alt=\"Open In Colab\"/></a>"
      ]
    },
    {
      "cell_type": "markdown",
      "metadata": {
        "id": "ctlDlluMfsOn",
        "colab_type": "text"
      },
      "source": [
        "## Do you like using Jupyter Notebooks?"
      ]
    },
    {
      "cell_type": "markdown",
      "metadata": {
        "id": "xArHJKPUgZvv",
        "colab_type": "text"
      },
      "source": [
        "Yes! This Juyter Notebook looks really interesting. The organization of the Jupyter Notebooks is easy for the users to find. For example, easy to add codes, text, and pictures. In addition, the design of the Jupyter Notebooks is straight forward and clean. "
      ]
    },
    {
      "cell_type": "markdown",
      "metadata": {
        "id": "hJJKv4Oxgblm",
        "colab_type": "text"
      },
      "source": [
        "## What do you want to learn more about in Jupyter Notebooks?"
      ]
    },
    {
      "cell_type": "markdown",
      "metadata": {
        "id": "6kJw5H0wggiA",
        "colab_type": "text"
      },
      "source": [
        "There are a lot of things I want to learn more about in Jupyter Notebooks. For example, I like to learn codes that can run in Jupyter Notebooks and use them in different situations."
      ]
    },
    {
      "cell_type": "markdown",
      "metadata": {
        "id": "ci6Jx1OXgih1",
        "colab_type": "text"
      },
      "source": [
        "![profile picture](https://raw.githubusercontent.com/sql6001/Testing/master/Images/ce10818cef2696f7445bd0673c51d1ba.png)"
      ]
    }
  ]
}